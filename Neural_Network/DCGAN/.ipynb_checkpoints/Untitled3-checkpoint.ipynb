{
 "cells": [
  {
   "cell_type": "markdown",
   "metadata": {},
   "source": [
    "# 在jupyter中如何使用tf.variable_scope( )变量域"
   ]
  },
  {
   "cell_type": "markdown",
   "metadata": {},
   "source": [
    "写本篇博客的初衷：因本人使用tf.variable_scope()变量域在jupyter多次运行程序时，经常会遇到Variable …… already exists, disallowed. Did you mean to set reuse=True or reuse=tf.AUTO_REUSE in VarScope? Originally defined at:……的报错，在查看网上多篇博客和资料后，都没有能够明确解释tf.variable_scope()和jupyter运行机制之间的关系。因此本人在经过深刻钻研和实验后，决定探究如何在jupyter中正确使用tensorflow变量域，及两者之间存在的关系。"
   ]
  },
  {
   "cell_type": "markdown",
   "metadata": {},
   "source": [
    "当我们新建一个jupyter文档后，在文档中运行下面的代码："
   ]
  },
  {
   "cell_type": "code",
   "execution_count": 1,
   "metadata": {},
   "outputs": [
    {
     "name": "stdout",
     "output_type": "stream",
     "text": [
      "There are 2 train_able_variables in the Graph: \n",
      "conv/weights:0\n",
      "conv/biases:0\n"
     ]
    }
   ],
   "source": [
    "import tensorflow as tf\n",
    "\n",
    "with tf.variable_scope(\"conv\"):\n",
    "    # Create variable named \"conv/weights\".\n",
    "    weights = tf.get_variable(\"weights\", [5, 5, 32, 32], initializer=tf.random_normal_initializer())\n",
    "    # Create variable named \"conv/biases\".\n",
    "    biases = tf.get_variable(\"biases\", [32], initializer=tf.constant_initializer(0.0))\n",
    "    \n",
    "\n",
    "# tf.trainable_variables()用来获取所有的可训练变量，即之前运用jupyter运行程序时，系统内存中保存的所有变量\n",
    "vs = tf.trainable_variables()\n",
    "print(\"There are %d train_able_variables in the Graph: \" % len(vs))\n",
    "for v in vs:\n",
    "    print(v.name)"
   ]
  },
  {
   "cell_type": "markdown",
   "metadata": {},
   "source": [
    "可见，通过上面的程序，我们创建了两个分别名为conv/weights和conv/biases的变量，此时我们把上面的代码复制到下面的框中，再重新运行一遍，看看输出什么结果。"
   ]
  },
  {
   "cell_type": "code",
   "execution_count": 2,
   "metadata": {},
   "outputs": [
    {
     "ename": "ValueError",
     "evalue": "Variable conv/weights already exists, disallowed. Did you mean to set reuse=True or reuse=tf.AUTO_REUSE in VarScope? Originally defined at:\n\n  File \"<ipython-input-1-aa5fff98c0f6>\", line 5, in <module>\n    weights = tf.get_variable(\"weights\", [5, 5, 32, 32], initializer=tf.random_normal_initializer())\n  File \"/Users/zhuhai/anaconda3/lib/python3.6/site-packages/IPython/core/interactiveshell.py\", line 2862, in run_code\n    exec(code_obj, self.user_global_ns, self.user_ns)\n  File \"/Users/zhuhai/anaconda3/lib/python3.6/site-packages/IPython/core/interactiveshell.py\", line 2802, in run_ast_nodes\n    if self.run_code(code, result):\n",
     "output_type": "error",
     "traceback": [
      "\u001b[0;31m---------------------------------------------------------------------------\u001b[0m",
      "\u001b[0;31mValueError\u001b[0m                                Traceback (most recent call last)",
      "\u001b[0;32m<ipython-input-2-aa5fff98c0f6>\u001b[0m in \u001b[0;36m<module>\u001b[0;34m()\u001b[0m\n\u001b[1;32m      3\u001b[0m \u001b[0;32mwith\u001b[0m \u001b[0mtf\u001b[0m\u001b[0;34m.\u001b[0m\u001b[0mvariable_scope\u001b[0m\u001b[0;34m(\u001b[0m\u001b[0;34m\"conv\"\u001b[0m\u001b[0;34m)\u001b[0m\u001b[0;34m:\u001b[0m\u001b[0;34m\u001b[0m\u001b[0m\n\u001b[1;32m      4\u001b[0m     \u001b[0;31m# Create variable named \"conv/weights\".\u001b[0m\u001b[0;34m\u001b[0m\u001b[0;34m\u001b[0m\u001b[0m\n\u001b[0;32m----> 5\u001b[0;31m     \u001b[0mweights\u001b[0m \u001b[0;34m=\u001b[0m \u001b[0mtf\u001b[0m\u001b[0;34m.\u001b[0m\u001b[0mget_variable\u001b[0m\u001b[0;34m(\u001b[0m\u001b[0;34m\"weights\"\u001b[0m\u001b[0;34m,\u001b[0m \u001b[0;34m[\u001b[0m\u001b[0;36m5\u001b[0m\u001b[0;34m,\u001b[0m \u001b[0;36m5\u001b[0m\u001b[0;34m,\u001b[0m \u001b[0;36m32\u001b[0m\u001b[0;34m,\u001b[0m \u001b[0;36m32\u001b[0m\u001b[0;34m]\u001b[0m\u001b[0;34m,\u001b[0m \u001b[0minitializer\u001b[0m\u001b[0;34m=\u001b[0m\u001b[0mtf\u001b[0m\u001b[0;34m.\u001b[0m\u001b[0mrandom_normal_initializer\u001b[0m\u001b[0;34m(\u001b[0m\u001b[0;34m)\u001b[0m\u001b[0;34m)\u001b[0m\u001b[0;34m\u001b[0m\u001b[0m\n\u001b[0m\u001b[1;32m      6\u001b[0m     \u001b[0;31m# Create variable named \"conv/biases\".\u001b[0m\u001b[0;34m\u001b[0m\u001b[0;34m\u001b[0m\u001b[0m\n\u001b[1;32m      7\u001b[0m     \u001b[0mbiases\u001b[0m \u001b[0;34m=\u001b[0m \u001b[0mtf\u001b[0m\u001b[0;34m.\u001b[0m\u001b[0mget_variable\u001b[0m\u001b[0;34m(\u001b[0m\u001b[0;34m\"biases\"\u001b[0m\u001b[0;34m,\u001b[0m \u001b[0;34m[\u001b[0m\u001b[0;36m32\u001b[0m\u001b[0;34m]\u001b[0m\u001b[0;34m,\u001b[0m \u001b[0minitializer\u001b[0m\u001b[0;34m=\u001b[0m\u001b[0mtf\u001b[0m\u001b[0;34m.\u001b[0m\u001b[0mconstant_initializer\u001b[0m\u001b[0;34m(\u001b[0m\u001b[0;36m0.0\u001b[0m\u001b[0;34m)\u001b[0m\u001b[0;34m)\u001b[0m\u001b[0;34m\u001b[0m\u001b[0m\n",
      "\u001b[0;32m~/anaconda3/lib/python3.6/site-packages/tensorflow/python/ops/variable_scope.py\u001b[0m in \u001b[0;36mget_variable\u001b[0;34m(name, shape, dtype, initializer, regularizer, trainable, collections, caching_device, partitioner, validate_shape, use_resource, custom_getter, constraint)\u001b[0m\n\u001b[1;32m   1315\u001b[0m       \u001b[0mpartitioner\u001b[0m\u001b[0;34m=\u001b[0m\u001b[0mpartitioner\u001b[0m\u001b[0;34m,\u001b[0m \u001b[0mvalidate_shape\u001b[0m\u001b[0;34m=\u001b[0m\u001b[0mvalidate_shape\u001b[0m\u001b[0;34m,\u001b[0m\u001b[0;34m\u001b[0m\u001b[0m\n\u001b[1;32m   1316\u001b[0m       \u001b[0muse_resource\u001b[0m\u001b[0;34m=\u001b[0m\u001b[0muse_resource\u001b[0m\u001b[0;34m,\u001b[0m \u001b[0mcustom_getter\u001b[0m\u001b[0;34m=\u001b[0m\u001b[0mcustom_getter\u001b[0m\u001b[0;34m,\u001b[0m\u001b[0;34m\u001b[0m\u001b[0m\n\u001b[0;32m-> 1317\u001b[0;31m       constraint=constraint)\n\u001b[0m\u001b[1;32m   1318\u001b[0m get_variable_or_local_docstring = (\n\u001b[1;32m   1319\u001b[0m     \"\"\"%s\n",
      "\u001b[0;32m~/anaconda3/lib/python3.6/site-packages/tensorflow/python/ops/variable_scope.py\u001b[0m in \u001b[0;36mget_variable\u001b[0;34m(self, var_store, name, shape, dtype, initializer, regularizer, reuse, trainable, collections, caching_device, partitioner, validate_shape, use_resource, custom_getter, constraint)\u001b[0m\n\u001b[1;32m   1077\u001b[0m           \u001b[0mpartitioner\u001b[0m\u001b[0;34m=\u001b[0m\u001b[0mpartitioner\u001b[0m\u001b[0;34m,\u001b[0m \u001b[0mvalidate_shape\u001b[0m\u001b[0;34m=\u001b[0m\u001b[0mvalidate_shape\u001b[0m\u001b[0;34m,\u001b[0m\u001b[0;34m\u001b[0m\u001b[0m\n\u001b[1;32m   1078\u001b[0m           \u001b[0muse_resource\u001b[0m\u001b[0;34m=\u001b[0m\u001b[0muse_resource\u001b[0m\u001b[0;34m,\u001b[0m \u001b[0mcustom_getter\u001b[0m\u001b[0;34m=\u001b[0m\u001b[0mcustom_getter\u001b[0m\u001b[0;34m,\u001b[0m\u001b[0;34m\u001b[0m\u001b[0m\n\u001b[0;32m-> 1079\u001b[0;31m           constraint=constraint)\n\u001b[0m\u001b[1;32m   1080\u001b[0m \u001b[0;34m\u001b[0m\u001b[0m\n\u001b[1;32m   1081\u001b[0m   def _get_partitioned_variable(self,\n",
      "\u001b[0;32m~/anaconda3/lib/python3.6/site-packages/tensorflow/python/ops/variable_scope.py\u001b[0m in \u001b[0;36mget_variable\u001b[0;34m(self, name, shape, dtype, initializer, regularizer, reuse, trainable, collections, caching_device, partitioner, validate_shape, use_resource, custom_getter, constraint)\u001b[0m\n\u001b[1;32m    423\u001b[0m           \u001b[0mcaching_device\u001b[0m\u001b[0;34m=\u001b[0m\u001b[0mcaching_device\u001b[0m\u001b[0;34m,\u001b[0m \u001b[0mpartitioner\u001b[0m\u001b[0;34m=\u001b[0m\u001b[0mpartitioner\u001b[0m\u001b[0;34m,\u001b[0m\u001b[0;34m\u001b[0m\u001b[0m\n\u001b[1;32m    424\u001b[0m           \u001b[0mvalidate_shape\u001b[0m\u001b[0;34m=\u001b[0m\u001b[0mvalidate_shape\u001b[0m\u001b[0;34m,\u001b[0m \u001b[0muse_resource\u001b[0m\u001b[0;34m=\u001b[0m\u001b[0muse_resource\u001b[0m\u001b[0;34m,\u001b[0m\u001b[0;34m\u001b[0m\u001b[0m\n\u001b[0;32m--> 425\u001b[0;31m           constraint=constraint)\n\u001b[0m\u001b[1;32m    426\u001b[0m \u001b[0;34m\u001b[0m\u001b[0m\n\u001b[1;32m    427\u001b[0m   def _get_partitioned_variable(\n",
      "\u001b[0;32m~/anaconda3/lib/python3.6/site-packages/tensorflow/python/ops/variable_scope.py\u001b[0m in \u001b[0;36m_true_getter\u001b[0;34m(name, shape, dtype, initializer, regularizer, reuse, trainable, collections, caching_device, partitioner, validate_shape, use_resource, constraint)\u001b[0m\n\u001b[1;32m    392\u001b[0m           \u001b[0mtrainable\u001b[0m\u001b[0;34m=\u001b[0m\u001b[0mtrainable\u001b[0m\u001b[0;34m,\u001b[0m \u001b[0mcollections\u001b[0m\u001b[0;34m=\u001b[0m\u001b[0mcollections\u001b[0m\u001b[0;34m,\u001b[0m\u001b[0;34m\u001b[0m\u001b[0m\n\u001b[1;32m    393\u001b[0m           \u001b[0mcaching_device\u001b[0m\u001b[0;34m=\u001b[0m\u001b[0mcaching_device\u001b[0m\u001b[0;34m,\u001b[0m \u001b[0mvalidate_shape\u001b[0m\u001b[0;34m=\u001b[0m\u001b[0mvalidate_shape\u001b[0m\u001b[0;34m,\u001b[0m\u001b[0;34m\u001b[0m\u001b[0m\n\u001b[0;32m--> 394\u001b[0;31m           use_resource=use_resource, constraint=constraint)\n\u001b[0m\u001b[1;32m    395\u001b[0m \u001b[0;34m\u001b[0m\u001b[0m\n\u001b[1;32m    396\u001b[0m     \u001b[0;32mif\u001b[0m \u001b[0mcustom_getter\u001b[0m \u001b[0;32mis\u001b[0m \u001b[0;32mnot\u001b[0m \u001b[0;32mNone\u001b[0m\u001b[0;34m:\u001b[0m\u001b[0;34m\u001b[0m\u001b[0m\n",
      "\u001b[0;32m~/anaconda3/lib/python3.6/site-packages/tensorflow/python/ops/variable_scope.py\u001b[0m in \u001b[0;36m_get_single_variable\u001b[0;34m(self, name, shape, dtype, initializer, regularizer, partition_info, reuse, trainable, collections, caching_device, validate_shape, use_resource, constraint)\u001b[0m\n\u001b[1;32m    731\u001b[0m                          \u001b[0;34m\"reuse=tf.AUTO_REUSE in VarScope? \"\u001b[0m\u001b[0;34m\u001b[0m\u001b[0m\n\u001b[1;32m    732\u001b[0m                          \"Originally defined at:\\n\\n%s\" % (\n\u001b[0;32m--> 733\u001b[0;31m                              name, \"\".join(traceback.format_list(tb))))\n\u001b[0m\u001b[1;32m    734\u001b[0m       \u001b[0mfound_var\u001b[0m \u001b[0;34m=\u001b[0m \u001b[0mself\u001b[0m\u001b[0;34m.\u001b[0m\u001b[0m_vars\u001b[0m\u001b[0;34m[\u001b[0m\u001b[0mname\u001b[0m\u001b[0;34m]\u001b[0m\u001b[0;34m\u001b[0m\u001b[0m\n\u001b[1;32m    735\u001b[0m       \u001b[0;32mif\u001b[0m \u001b[0;32mnot\u001b[0m \u001b[0mshape\u001b[0m\u001b[0;34m.\u001b[0m\u001b[0mis_compatible_with\u001b[0m\u001b[0;34m(\u001b[0m\u001b[0mfound_var\u001b[0m\u001b[0;34m.\u001b[0m\u001b[0mget_shape\u001b[0m\u001b[0;34m(\u001b[0m\u001b[0;34m)\u001b[0m\u001b[0;34m)\u001b[0m\u001b[0;34m:\u001b[0m\u001b[0;34m\u001b[0m\u001b[0m\n",
      "\u001b[0;31mValueError\u001b[0m: Variable conv/weights already exists, disallowed. Did you mean to set reuse=True or reuse=tf.AUTO_REUSE in VarScope? Originally defined at:\n\n  File \"<ipython-input-1-aa5fff98c0f6>\", line 5, in <module>\n    weights = tf.get_variable(\"weights\", [5, 5, 32, 32], initializer=tf.random_normal_initializer())\n  File \"/Users/zhuhai/anaconda3/lib/python3.6/site-packages/IPython/core/interactiveshell.py\", line 2862, in run_code\n    exec(code_obj, self.user_global_ns, self.user_ns)\n  File \"/Users/zhuhai/anaconda3/lib/python3.6/site-packages/IPython/core/interactiveshell.py\", line 2802, in run_ast_nodes\n    if self.run_code(code, result):\n"
     ]
    }
   ],
   "source": [
    "import tensorflow as tf\n",
    "\n",
    "with tf.variable_scope(\"conv\"):\n",
    "    # Create variable named \"conv/weights\".\n",
    "    weights = tf.get_variable(\"weights\", [5, 5, 32, 32], initializer=tf.random_normal_initializer())\n",
    "    # Create variable named \"conv/biases\".\n",
    "    biases = tf.get_variable(\"biases\", [32], initializer=tf.constant_initializer(0.0))\n",
    "    \n",
    "\n",
    "# tf.trainable_variables()用来获取所有的可训练变量，即之前运用jupyter运行程序时，系统内存中保存的所有变量\n",
    "vs = tf.trainable_variables()\n",
    "print(\"There are %d train_able_variables in the Graph: \" % len(vs))\n",
    "for v in vs:\n",
    "    print(v.name)"
   ]
  },
  {
   "cell_type": "markdown",
   "metadata": {},
   "source": [
    "出现了错误，系统提示我们，变量conv/weights已经存在，问我们是否要设置reuse=True,即通过将准许重复使用的标志位置为真，来重复使用该变量。同时错误提示还告诉我们变量conv/weights原始定义的位置。"
   ]
  },
  {
   "cell_type": "markdown",
   "metadata": {},
   "source": [
    "由此，我们可以得出：当我们初次运行上面这段程序时，系统中没有在conv变量域下定义的两个变量weights和biases，所以系统自动创建了这两个变量，并将它们命名为conv/weights和conv/biases。当我们再次运行时，系统报错，告诉我们变量已存在，还给我们提出了解决办法，即通过将reuse标志位置为真。下面我们来试一下，加入reuse=True后程序的运行结果："
   ]
  },
  {
   "cell_type": "code",
   "execution_count": 3,
   "metadata": {},
   "outputs": [
    {
     "name": "stdout",
     "output_type": "stream",
     "text": [
      "There are 2 train_able_variables in the Graph: \n",
      "conv/weights:0\n",
      "conv/biases:0\n"
     ]
    }
   ],
   "source": [
    "import tensorflow as tf\n",
    "#在tf.variable_scope()中，已经内置了reuse标志位形参，不填，默认为False\n",
    "with tf.variable_scope(\"conv\", reuse=True):\n",
    "    # Create variable named \"conv/weights\".\n",
    "    weights = tf.get_variable(\"weights\", [5, 5, 32, 32], initializer=tf.random_normal_initializer())\n",
    "    # Create variable named \"conv/biases\".\n",
    "    biases = tf.get_variable(\"biases\", [32], initializer=tf.constant_initializer(0.0))\n",
    "    \n",
    "\n",
    "# tf.trainable_variables()用来获取所有的可训练变量，即之前运用jupyter运行程序时，系统内存中保存的所有变量\n",
    "vs = tf.trainable_variables()\n",
    "print(\"There are %d train_able_variables in the Graph: \" % len(vs))\n",
    "for v in vs:\n",
    "    print(v.name)"
   ]
  },
  {
   "cell_type": "markdown",
   "metadata": {},
   "source": [
    "可以看到，在添加reuse=True后，我们再次运行程序，输出了和第一次运行程序相同的结果，说明我们进行了变量共享。"
   ]
  },
  {
   "cell_type": "markdown",
   "metadata": {},
   "source": [
    "总结：我们第一次运行程序是创建变量（提示：如果第一次运行程序时就加上reuse=True，程序运行依然有错，因为变量还没有创建，不能重复使用，读者可自行试验）；第二次运行程序，报错，提示没有将重复使用标志位置为真，就重复使用了变量；第三次运行程序，我们加上reuse=True后，程序内存中储存的变量依然是第一次运行后所创建的变量，并没有重新创建新变量，即我们通过使用variable scope变量域，和tf.get_variable()函数，实现了变量共享。"
   ]
  },
  {
   "cell_type": "markdown",
   "metadata": {},
   "source": [
    "下面我们将上面的变量域的名字由conv改为conv1，同时去掉reuse=True，看一下会输出什么。"
   ]
  },
  {
   "cell_type": "code",
   "execution_count": 6,
   "metadata": {},
   "outputs": [
    {
     "name": "stdout",
     "output_type": "stream",
     "text": [
      "There are 4 train_able_variables in the Graph: \n",
      "conv/weights:0\n",
      "conv/biases:0\n",
      "conv1/weights:0\n",
      "conv1/biases:0\n"
     ]
    }
   ],
   "source": [
    "import tensorflow as tf\n",
    "#在tf.variable_scope()中，已经内置了reuse标志位形参，不填，默认为False\n",
    "with tf.variable_scope(\"conv1\"):\n",
    "    # Create variable named \"conv/weights\".\n",
    "    weights = tf.get_variable(\"weights\", [5, 5, 32, 32], initializer=tf.random_normal_initializer())\n",
    "    # Create variable named \"conv/biases\".\n",
    "    biases = tf.get_variable(\"biases\", [32], initializer=tf.constant_initializer(0.0))\n",
    "    \n",
    "\n",
    "# tf.trainable_variables()用来获取所有的可训练变量，即之前运用jupyter运行程序时，系统内存中保存的所有变量\n",
    "vs = tf.trainable_variables()\n",
    "print(\"There are %d train_able_variables in the Graph: \" % len(vs))\n",
    "for v in vs:\n",
    "    print(v.name)"
   ]
  },
  {
   "cell_type": "markdown",
   "metadata": {},
   "source": [
    "可见输出了四个变量，前两个是我们之前创建的conv/weights和conv/biases变量，后两个是我们本次程序运行创建的conv1/weights和conv1/biases变量。"
   ]
  },
  {
   "cell_type": "markdown",
   "metadata": {},
   "source": [
    "总结：  \n",
    "1、在jupyter中每定义一个新的变量，系统内存就会开辟一个以该变量的名字命名的存储空间，用来存储该变量。变量在内存中的存储只与其名字一一对应。  \n",
    "2、tf.get_variable()函数，当内存中一个变量已存在时，将该变量域的reuse置为True，可实现变量重复使用，即变量共享；当内存中一个变量不存在时，将reuse置为False，可创建变量。  \n",
    "3、tf.variable_scope( )的形参——reuse标志位，起作用的范围是整个变量域内定义的所有变量。"
   ]
  },
  {
   "cell_type": "markdown",
   "metadata": {},
   "source": [
    "下面我们将上面程序复制到下面，用tf.Variable()函数来定义变量，其它都不变，看看会输出什么。"
   ]
  },
  {
   "cell_type": "code",
   "execution_count": 10,
   "metadata": {},
   "outputs": [
    {
     "name": "stdout",
     "output_type": "stream",
     "text": [
      "There are 8 train_able_variables in the Graph: \n",
      "conv/weights:0\n",
      "conv/biases:0\n",
      "conv1/weights:0\n",
      "conv1/biases:0\n",
      "conv1_2/weights:0\n",
      "conv1_2/biases:0\n",
      "conv1_3/weights:0\n",
      "conv1_3/biases:0\n"
     ]
    }
   ],
   "source": [
    "import tensorflow as tf\n",
    "#在tf.variable_scope()中，已经内置了reuse标志位形参，不填，默认为False\n",
    "with tf.variable_scope(\"conv1\"):\n",
    "    # Create variable named \"conv/weights\".\n",
    "    weights = tf.Variable(tf.random_normal([5, 5, 32, 32]), name=\"weights\")\n",
    "    # Create variable named \"conv/biases\".\n",
    "    biases = tf.Variable(tf.zeros([32]), name=\"biases\")\n",
    "    \n",
    "\n",
    "# tf.trainable_variables()用来获取所有的可训练变量，即之前运用jupyter运行程序时，系统内存中保存的所有变量\n",
    "vs = tf.trainable_variables()\n",
    "print(\"There are %d train_able_variables in the Graph: \" % len(vs))\n",
    "for v in vs:\n",
    "    print(v.name)"
   ]
  },
  {
   "cell_type": "markdown",
   "metadata": {},
   "source": [
    "总结：我们没有改变变量域和变量的名字，但是系统还是又创建了两个变量，conv1_2/weights和conv1_2/biases，可见，tf.Variable()的功能是：不管之前是否创建过该变量，系统都会自动给变量分配新的名字，开辟新的存储空间，创建新的变量。"
   ]
  },
  {
   "cell_type": "markdown",
   "metadata": {},
   "source": [
    "只是在jupyter中，存在复用问题，可能是jupyter交互式程序运行机制的问题，在.py文件的运行中，不存在该问题，因程序每一次运行后，都会释放在内存中定义变量的存储空间。"
   ]
  },
  {
   "cell_type": "markdown",
   "metadata": {},
   "source": [
    "本文系作者原创，转载请注明出处。"
   ]
  }
 ],
 "metadata": {
  "kernelspec": {
   "display_name": "Python 3",
   "language": "python",
   "name": "python3"
  },
  "language_info": {
   "codemirror_mode": {
    "name": "ipython",
    "version": 3
   },
   "file_extension": ".py",
   "mimetype": "text/x-python",
   "name": "python",
   "nbconvert_exporter": "python",
   "pygments_lexer": "ipython3",
   "version": "3.6.3"
  }
 },
 "nbformat": 4,
 "nbformat_minor": 2
}
